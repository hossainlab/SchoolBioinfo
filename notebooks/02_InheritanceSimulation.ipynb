{
 "cells": [
  {
   "cell_type": "markdown",
   "id": "a672e4cb-7e0f-438d-9198-9d022ed8b88b",
   "metadata": {},
   "source": [
    "# Introduction to Inheritance Simulation\n",
    "Mendelian inheritance follows specific patterns. In a simple monohybrid cross, one gene with two alleles (dominant and recessive) determines a particular trait. Let's simulate this.\n",
    "\n",
    "This guide will cover:\n",
    "\n",
    "1. Basics of Mendelian Genetics\n",
    "2. Simulating Inheritance Probability\n",
    "3. Visualizing Results with Python"
   ]
  },
  {
   "cell_type": "markdown",
   "id": "337a6399-bfbf-4bb9-9d91-0b888654295b",
   "metadata": {},
   "source": [
    "## Basics of Mendelian Inheritance\n",
    "- **Alleles**: Different forms of a gene (e.g., dominant `A` and recessive `a`).\n",
    "- **Genotype**: Genetic makeup (e.g., `AA`, `Aa`, `aa`).\n",
    "- **Phenotype**: Observable trait determined by genotype.\n",
    "- **Homozygous**: Having two identical alleles (e.g., `AA` or `aa`).\n",
    "- **Heterozygous**: Having two different alleles (e.g., `Aa`).\n",
    "\n",
    "## Mendelian Ratios\n",
    "\n",
    "- Cross between two heterozygotes (`Aa` x `Aa`):\n",
    "  - Genotypic Ratio: `1:2:1` (`AA:Aa:aa`)\n",
    "  - Phenotypic Ratio: `3:1` (Dominant:Recessive)"
   ]
  },
  {
   "cell_type": "markdown",
   "id": "f5c6e0eb-bd04-4d8f-a7e8-f00f248e7615",
   "metadata": {},
   "source": [
    "### Punnett Square Basics for Monohybrid Cross\n",
    "For a cross between two heterozygous individuals (`Aa` x `Aa`), the offspring possibilities are:\n",
    "- 25% `AA`\n",
    "- 50% `Aa`\n",
    "- 25% `aa`"
   ]
  },
  {
   "cell_type": "markdown",
   "id": "a96ae0d3-2ec2-492a-9a2a-785e3b9a860b",
   "metadata": {},
   "source": [
    "## Simulating Inheritance with Python"
   ]
  },
  {
   "cell_type": "markdown",
   "id": "fe69c9ad-9f76-4855-8e18-86012181a2bb",
   "metadata": {},
   "source": [
    "## Simulating a Monohybrid Cross\n",
    "In a monohybrid cross, we simulate the inheritance of one trait (e.g., flower color) with two alleles: one dominant (A) and one recessive (a)."
   ]
  },
  {
   "cell_type": "code",
   "execution_count": 2,
   "id": "7837655c-91ba-442c-83db-cbf58761b6c2",
   "metadata": {},
   "outputs": [
    {
     "name": "stdout",
     "output_type": "stream",
     "text": [
      "Offspring Genotypes: {'AA': 260, 'Aa': 477, 'aa': 263}\n"
     ]
    },
    {
     "data": {
      "image/png": "[encoded data removed]",
      "text/plain": [
       "<Figure size 640x480 with 1 Axes>"
      ]
     },
     "metadata": {},
     "output_type": "display_data"
    }
   ],
   "source": [
    "# Function to simulate monohybrid cross\n",
    "def monohybrid_cross(parent1, parent2, num_offspring):\n",
    "    offspring = {'AA': 0, 'Aa': 0, 'aa': 0}\n",
    "    \n",
    "    for _ in range(num_offspring):\n",
    "        # Randomly choose one allele from each parent\n",
    "        allele1 = random.choice(parent1)\n",
    "        allele2 = random.choice(parent2)\n",
    "        \n",
    "        # Combine alleles to form the genotype\n",
    "        genotype = allele1 + allele2\n",
    "        genotype = ''.join(sorted(genotype))  # Sort to ensure consistent order (Aa, not aA)\n",
    "        \n",
    "        # Count the offspring genotypes\n",
    "        if genotype == 'AA':\n",
    "            offspring['AA'] += 1\n",
    "        elif genotype == 'Aa':\n",
    "            offspring['Aa'] += 1\n",
    "        elif genotype == 'aa':\n",
    "            offspring['aa'] += 1\n",
    "    \n",
    "    return offspring\n",
    "\n",
    "# Parent genotypes (heterozygous)\n",
    "parent1 = ['A', 'a']\n",
    "parent2 = ['A', 'a']\n",
    "\n",
    "# Number of offspring\n",
    "num_offspring = 1000\n",
    "offspring = monohybrid_cross(parent1, parent2, num_offspring)\n",
    "\n",
    "# Display the results\n",
    "print(f\"Offspring Genotypes: {offspring}\")\n",
    "\n",
    "# Plot the results\n",
    "genotypes = list(offspring.keys())\n",
    "counts = list(offspring.values())\n",
    "\n",
    "plt.bar(genotypes, counts)\n",
    "plt.xlabel('Genotype')\n",
    "plt.ylabel('Frequency')\n",
    "plt.title(\"Monohybrid Cross Offspring Genotypes\")\n",
    "plt.show()"
   ]
  },
  {
   "cell_type": "markdown",
   "id": "d998d35d-23a8-47bf-b1cd-f3fe986c73fa",
   "metadata": {},
   "source": [
    "## Advanced Simulation: Multiple Generations\n",
    "We can simulate inheritance across multiple generations."
   ]
  },
  {
   "cell_type": "code",
   "execution_count": 2,
   "id": "d0eadf2d-0aa8-438a-91a6-83dd97fbb8cc",
   "metadata": {},
   "outputs": [
    {
     "name": "stdout",
     "output_type": "stream",
     "text": [
      "Genotype counts: Counter({'aA': 2597, 'aa': 2524, 'Aa': 2457, 'AA': 2422})\n",
      "Genotype probabilities: {'AA': 0.2422, 'aa': 0.2524, 'Aa': 0.2457, 'aA': 0.2597}\n"
     ]
    }
   ],
   "source": [
    "import random\n",
    "from collections import Counter\n",
    "\n",
    "# Function to simulate a cross\n",
    "def simulate_cross(parent1, parent2, num_offspring):\n",
    "    offspring = []\n",
    "    for _ in range(num_offspring):\n",
    "        allele1 = random.choice(parent1)\n",
    "        allele2 = random.choice(parent2)\n",
    "        offspring.append(allele1 + allele2)\n",
    "    return offspring\n",
    "\n",
    "# Simulate a cross between two heterozygous parents (Aa x Aa)\n",
    "parent1 = 'Aa'\n",
    "parent2 = 'Aa'\n",
    "num_offspring = 10000\n",
    "\n",
    "offspring = simulate_cross(parent1, parent2, num_offspring)\n",
    "\n",
    "# Count genotypes\n",
    "genotype_counts = Counter(offspring)\n",
    "print(\"Genotype counts:\", genotype_counts)\n",
    "\n",
    "# Calculate probabilities\n",
    "total_offspring = sum(genotype_counts.values())\n",
    "genotype_probabilities = {genotype: count / total_offspring for genotype, count in genotype_counts.items()}\n",
    "print(\"Genotype probabilities:\", genotype_probabilities)"
   ]
  },
  {
   "cell_type": "code",
   "execution_count": 3,
   "id": "ac52a857-259b-4171-90ee-dbcfb2f3f7ea",
   "metadata": {},
   "outputs": [
    {
     "name": "stdout",
     "output_type": "stream",
     "text": [
      "Final genotype distribution after 10 generations: Counter({'AA': 40, 'Aa': 30, 'aA': 18, 'aa': 12})\n"
     ]
    }
   ],
   "source": [
    "def simulate_generations(initial_population, num_generations):\n",
    "    population = initial_population\n",
    "    for generation in range(num_generations):\n",
    "        next_population = []\n",
    "        for parent1 in population:\n",
    "            for parent2 in population:\n",
    "                next_population.extend(simulate_cross(parent1, parent2, 1))\n",
    "        population = random.sample(next_population, len(initial_population))  # Keep population size constant\n",
    "    return Counter(population)\n",
    "\n",
    "# Initial population of 100 individuals (heterozygous Aa)\n",
    "initial_population = ['Aa'] * 100\n",
    "num_generations = 10\n",
    "\n",
    "final_population = simulate_generations(initial_population, num_generations)\n",
    "print(\"Final genotype distribution after 10 generations:\", final_population)"
   ]
  },
  {
   "cell_type": "code",
   "execution_count": 4,
   "id": "19c27ee1-8a74-4250-b575-820b918ace84",
   "metadata": {},
   "outputs": [
    {
     "name": "stdout",
     "output_type": "stream",
     "text": [
      "Genotype distribution:\n",
      "aa: 247 (24.70%)\n",
      "Aa: 499 (49.90%)\n",
      "AA: 254 (25.40%)\n"
     ]
    }
   ],
   "source": [
    "import random\n",
    "from collections import Counter\n",
    "\n",
    "# Function to generate a Punnett square with randomization\n",
    "def punnett_square(parent1, parent2, num_offspring):\n",
    "    offspring = []\n",
    "    for _ in range(num_offspring):\n",
    "        allele1 = random.choice(parent1)\n",
    "        allele2 = random.choice(parent2)\n",
    "        offspring.append(''.join(sorted(allele1 + allele2)))  # Sort alleles for consistent representation\n",
    "    return Counter(offspring)\n",
    "\n",
    "# Parent genotypes\n",
    "parent1 = 'Aa'  # Example: heterozygous parent\n",
    "parent2 = 'Aa'  # Example: heterozygous parent\n",
    "\n",
    "# Simulate 1000 offspring\n",
    "num_offspring = 1000\n",
    "offspring_distribution = punnett_square(parent1, parent2, num_offspring)\n",
    "\n",
    "# Display results\n",
    "print(\"Genotype distribution:\")\n",
    "for genotype, count in offspring_distribution.items():\n",
    "    print(f\"{genotype}: {count} ({(count / num_offspring) * 100:.2f}%)\")"
   ]
  },
  {
   "cell_type": "code",
   "execution_count": 5,
   "id": "652e074e-840c-4fd2-abb4-8ae3aac0c17c",
   "metadata": {},
   "outputs": [
    {
     "data": {
      "image/png": "[encoded data removed]",
      "text/plain": [
       "<Figure size 640x480 with 1 Axes>"
      ]
     },
     "metadata": {},
     "output_type": "display_data"
    }
   ],
   "source": [
    "import matplotlib.pyplot as plt\n",
    "\n",
    "# Function to visualize genotype distribution\n",
    "def plot_distribution(offspring_distribution):\n",
    "    genotypes = list(offspring_distribution.keys())\n",
    "    frequencies = list(offspring_distribution.values())\n",
    "    \n",
    "    plt.bar(genotypes, frequencies, color=['blue', 'orange', 'green'])\n",
    "    plt.xlabel(\"Genotype\")\n",
    "    plt.ylabel(\"Frequency\")\n",
    "    plt.title(\"Punnett Square Simulation Results\")\n",
    "    plt.show()\n",
    "\n",
    "# Plot the distribution\n",
    "plot_distribution(offspring_distribution)"
   ]
  },
  {
   "cell_type": "code",
   "execution_count": 6,
   "id": "09a6b841-b1cc-4473-b3d3-06fbd24f48f3",
   "metadata": {},
   "outputs": [
    {
     "name": "stdout",
     "output_type": "stream",
     "text": [
      "Dihybrid genotype distribution:\n",
      "aabb: 75 (7.50%)\n",
      "ABab: 255 (25.50%)\n",
      "AAbb: 51 (5.10%)\n",
      "Aabb: 120 (12.00%)\n",
      "ABBa: 133 (13.30%)\n",
      "AABb: 111 (11.10%)\n",
      "Baab: 115 (11.50%)\n",
      "AABB: 75 (7.50%)\n",
      "BBaa: 65 (6.50%)\n"
     ]
    }
   ],
   "source": [
    "# Function to simulate dihybrid cross\n",
    "def dihybrid_cross(parent1, parent2, num_offspring):\n",
    "    offspring = []\n",
    "    for _ in range(num_offspring):\n",
    "        alleles1 = [random.choice(parent1[:2]), random.choice(parent1[2:])]\n",
    "        alleles2 = [random.choice(parent2[:2]), random.choice(parent2[2:])]\n",
    "        genotype = ''.join(sorted(alleles1 + alleles2))\n",
    "        offspring.append(genotype)\n",
    "    return Counter(offspring)\n",
    "\n",
    "# Parent genotypes for dihybrid cross\n",
    "parent1 = 'AaBb'\n",
    "parent2 = 'AaBb'\n",
    "\n",
    "# Simulate 1000 offspring\n",
    "offspring_distribution_dihybrid = dihybrid_cross(parent1, parent2, num_offspring)\n",
    "\n",
    "# Display results\n",
    "print(\"Dihybrid genotype distribution:\")\n",
    "for genotype, count in offspring_distribution_dihybrid.items():\n",
    "    print(f\"{genotype}: {count} ({(count / num_offspring) * 100:.2f}%)\")"
   ]
  },
  {
   "cell_type": "code",
   "execution_count": null,
   "id": "bbe643d9-b5b3-4581-8d19-7eb36536f824",
   "metadata": {},
   "outputs": [],
   "source": []
  }
 ],
 "metadata": {
  "kernelspec": {
   "display_name": "Python 3 (ipykernel)",
   "language": "python",
   "name": "python3"
  },
  "language_info": {
   "codemirror_mode": {
    "name": "ipython",
    "version": 3
   },
   "file_extension": ".py",
   "mimetype": "text/x-python",
   "name": "python",
   "nbconvert_exporter": "python",
   "pygments_lexer": "ipython3",
   "version": "3.11.7"
  }
 },
 "nbformat": 4,
 "nbformat_minor": 5
}
