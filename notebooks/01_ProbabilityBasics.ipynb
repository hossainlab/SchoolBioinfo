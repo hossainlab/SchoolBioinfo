{
 "cells": [
  {
   "cell_type": "markdown",
   "id": "d93b836e-2132-4437-9b35-143eebfc44ba",
   "metadata": {},
   "source": [
    "# Introduction to Probability with Python\n",
    "Probability is the branch of mathematics that deals with the likelihood or chance of different outcomes. It is fundamental in various fields such as statistics, machine learning, data science, and epidemiology. This guide provides an introduction to probability concepts using Python, demonstrating how to perform basic probability operations and simulations.\n"
   ]
  },
  {
   "cell_type": "markdown",
   "id": "aa278c20-e332-4522-a2ee-dfd140c135f5",
   "metadata": {},
   "source": [
    "## Key Concepts in Probability\n",
    "\n",
    "1. **Experiment**: A random process whose outcomes cannot be predicted with certainty. \n",
    "2. **Sample Space**: The set of all possible outcomes of an experiment.\n",
    "3. **Event**: A subset of the sample space, representing a specific outcome or combination of outcomes.\n",
    "4. **Probability of an Event**: The likelihood of an event occurring, ranging from 0 to 1. The sum of probabilities for all possible outcomes of an experiment equals 1.\n",
    "\n",
    "$$P(A) = \\frac{\\text{Number of favorable outcomes for event A}}{\\text{Total number of possible outcomes}}$$\n",
    "\n",
    "5. **Complementary Events**: The event that an event does not occur, denoted by \\( A^c \\), where \\( P(A^c) = 1 - P(A) \\).\n",
    "\n",
    "6. **Independent Events**: Two events are independent if the occurrence of one does not affect the occurrence of the other.\n"
   ]
  },
  {
   "cell_type": "markdown",
   "id": "ba5a8853-0624-4c2a-9778-daecf7a46da8",
   "metadata": {},
   "source": [
    "## Python Libraries for Probability\n",
    "\n",
    "We will use the following Python libraries to perform probability-related tasks:\n",
    "\n",
    "- `numpy`: For generating random numbers and performing basic mathematical operations.\n",
    "- `matplotlib`: For visualizing the probability distributions and simulations.\n",
    "- `scipy.stats`: For statistical functions and probability distributions."
   ]
  },
  {
   "cell_type": "markdown",
   "id": "99455d15-50a0-46be-9ac1-a79b897c99ae",
   "metadata": {},
   "source": [
    "## Probability of Rolling a Die"
   ]
  },
  {
   "cell_type": "code",
   "execution_count": 6,
   "id": "f8d04ce4-f70c-4d52-95d0-bd20ab389051",
   "metadata": {},
   "outputs": [
    {
     "name": "stdout",
     "output_type": "stream",
     "text": [
      "Estimated probability of rolling a 3: 0.1671\n"
     ]
    }
   ],
   "source": [
    "import numpy as np\n",
    "\n",
    "# Simulating a die roll (1 to 6)\n",
    "def roll_die():\n",
    "    return np.random.randint(1, 7)\n",
    "\n",
    "# Simulating 10000 rolls\n",
    "num_rolls = 10000\n",
    "rolls = [roll_die() for _ in range(num_rolls)]\n",
    "\n",
    "# Calculating the probability of rolling a 3\n",
    "prob_3 = rolls.count(3) / num_rolls\n",
    "print(f\"Estimated probability of rolling a 3: {prob_3:.4f}\")"
   ]
  },
  {
   "cell_type": "markdown",
   "id": "4cfde041-25e1-4032-b0a2-0a57abe3d12d",
   "metadata": {},
   "source": [
    "## Coin Toss Simulation"
   ]
  },
  {
   "cell_type": "code",
   "execution_count": 7,
   "id": "350739e5-7c1d-4d20-b59a-8c9346160fb7",
   "metadata": {},
   "outputs": [
    {
     "name": "stdout",
     "output_type": "stream",
     "text": [
      "Estimated probability of getting Heads: 0.5061\n"
     ]
    }
   ],
   "source": [
    "def toss_coin():\n",
    "    return np.random.choice(['Heads', 'Tails'])\n",
    "\n",
    "# Simulating 10000 coin tosses\n",
    "num_tosses = 10000\n",
    "tosses = [toss_coin() for _ in range(num_tosses)]\n",
    "\n",
    "# Calculating the probability of getting heads\n",
    "prob_heads = tosses.count('Heads') / num_tosses\n",
    "print(f\"Estimated probability of getting Heads: {prob_heads:.4f}\")"
   ]
  },
  {
   "cell_type": "markdown",
   "id": "51b095b1-524c-42a2-a479-e01bec2067ac",
   "metadata": {},
   "source": [
    "## Simulating Independent Events"
   ]
  },
  {
   "cell_type": "code",
   "execution_count": 8,
   "id": "b65135ba-1e17-4783-96f8-ae88843cd6d4",
   "metadata": {},
   "outputs": [
    {
     "name": "stdout",
     "output_type": "stream",
     "text": [
      "Theoretical probability of rolling a 6 and getting Heads: 0.0833\n",
      "Estimated probability of both events: 0.0777\n"
     ]
    }
   ],
   "source": [
    "# Probability of rolling a 6 on a die (1/6)\n",
    "# Probability of getting Heads on a coin (1/2)\n",
    "prob_independent = (1/6) * (1/2)\n",
    "print(f\"Theoretical probability of rolling a 6 and getting Heads: {prob_independent:.4f}\")\n",
    "\n",
    "# Simulating 10000 trials\n",
    "def simulate_independent_events():\n",
    "    return roll_die() == 6 and toss_coin() == 'Heads'\n",
    "\n",
    "# Simulating 10000 trials\n",
    "num_trials = 10000\n",
    "independent_events = [simulate_independent_events() for _ in range(num_trials)]\n",
    "\n",
    "# Calculating the estimated probability of both events happening\n",
    "prob_both_events = sum(independent_events) / num_trials\n",
    "print(f\"Estimated probability of both events: {prob_both_events:.4f}\")"
   ]
  },
  {
   "cell_type": "markdown",
   "id": "17e75137-0855-4ee1-8fb2-8e80a19cb79d",
   "metadata": {},
   "source": [
    "## Conditional Probability"
   ]
  },
  {
   "cell_type": "code",
   "execution_count": 9,
   "id": "d40165cd-2d3b-4ff2-b9e0-e4b36e92e21e",
   "metadata": {},
   "outputs": [
    {
     "name": "stdout",
     "output_type": "stream",
     "text": [
      "Estimated probability of drawing a red card: 0.5000\n",
      "Estimated conditional probability of drawing a red card given it's a heart: 0.2502\n"
     ]
    }
   ],
   "source": [
    "# Simulating drawing a card from a deck (52 cards, 13 hearts, 26 red cards)\n",
    "def draw_card():\n",
    "    suits = ['Hearts', 'Diamonds', 'Clubs', 'Spades']\n",
    "    colors = ['Red', 'Red', 'Black', 'Black']\n",
    "    return np.random.choice(suits), np.random.choice(colors)\n",
    "\n",
    "# Simulating 10000 card draws\n",
    "num_draws = 10000\n",
    "draws = [draw_card() for _ in range(num_draws)]\n",
    "\n",
    "# Probability of drawing a red card\n",
    "prob_red = sum(1 for draw in draws if draw[1] == 'Red') / num_draws\n",
    "\n",
    "# Probability of drawing a red card given it's a heart\n",
    "prob_heart_given_red = sum(1 for draw in draws if draw[0] == 'Hearts' and draw[1] == 'Red') / sum(1 for draw in draws if draw[1] == 'Red')\n",
    "\n",
    "print(f\"Estimated probability of drawing a red card: {prob_red:.4f}\")\n",
    "print(f\"Estimated conditional probability of drawing a red card given it's a heart: {prob_heart_given_red:.4f}\")"
   ]
  }
 ],
 "metadata": {
  "kernelspec": {
   "display_name": "Python 3 (ipykernel)",
   "language": "python",
   "name": "python3"
  },
  "language_info": {
   "codemirror_mode": {
    "name": "ipython",
    "version": 3
   },
   "file_extension": ".py",
   "mimetype": "text/x-python",
   "name": "python",
   "nbconvert_exporter": "python",
   "pygments_lexer": "ipython3",
   "version": "3.11.7"
  }
 },
 "nbformat": 4,
 "nbformat_minor": 5
}
